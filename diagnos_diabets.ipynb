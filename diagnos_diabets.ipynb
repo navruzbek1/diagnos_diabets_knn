{
  "nbformat": 4,
  "nbformat_minor": 0,
  "metadata": {
    "colab": {
      "name": "diagnos_diabets.ipynb",
      "provenance": []
    },
    "kernelspec": {
      "name": "python3",
      "display_name": "Python 3"
    },
    "language_info": {
      "name": "python"
    }
  },
  "cells": [
    {
      "cell_type": "markdown",
      "source": [
        "# Maqsad diagnostik o’lchovlar asosida bemorda diabet bor-yo’qligini taxmin qilishdir\n",
        "\n",
        "\n",
        "\n",
        "\n",
        "---\n",
        "\n",
        "                                                                                                  created by Navruzbek_Abduganiyev\n",
        "\n",
        "\n"
      ],
      "metadata": {
        "id": "KC1eDi5fmuLR"
      }
    },
    {
      "cell_type": "code",
      "source": [
        "import pandas as pd\n",
        "import numpy as np\n",
        "import seaborn as sns\n",
        "import sklearn\n",
        "import matplotlib.pyplot as plt\n",
        "%matplotlib inline"
      ],
      "metadata": {
        "id": "udjx6kLrotiI"
      },
      "execution_count": 30,
      "outputs": []
    },
    {
      "cell_type": "code",
      "source": [
        "df = pd.read_csv(\"/content/diabetes.csv\")\n",
        "df.head()"
      ],
      "metadata": {
        "colab": {
          "base_uri": "https://localhost:8080/",
          "height": 206
        },
        "id": "AEqLzgP6ow8Q",
        "outputId": "9a18394c-b06f-4d3f-905c-6a2675979d00"
      },
      "execution_count": 3,
      "outputs": [
        {
          "output_type": "execute_result",
          "data": {
            "text/plain": [
              "   Pregnancies  Glucose  BloodPressure  SkinThickness  Insulin   BMI  \\\n",
              "0            6      148             72             35        0  33.6   \n",
              "1            1       85             66             29        0  26.6   \n",
              "2            8      183             64              0        0  23.3   \n",
              "3            1       89             66             23       94  28.1   \n",
              "4            0      137             40             35      168  43.1   \n",
              "\n",
              "   DiabetesPedigreeFunction  Age  Outcome  \n",
              "0                     0.627   50        1  \n",
              "1                     0.351   31        0  \n",
              "2                     0.672   32        1  \n",
              "3                     0.167   21        0  \n",
              "4                     2.288   33        1  "
            ],
            "text/html": [
              "\n",
              "  <div id=\"df-1c2c271a-5d87-4550-871e-bb32c7529938\">\n",
              "    <div class=\"colab-df-container\">\n",
              "      <div>\n",
              "<style scoped>\n",
              "    .dataframe tbody tr th:only-of-type {\n",
              "        vertical-align: middle;\n",
              "    }\n",
              "\n",
              "    .dataframe tbody tr th {\n",
              "        vertical-align: top;\n",
              "    }\n",
              "\n",
              "    .dataframe thead th {\n",
              "        text-align: right;\n",
              "    }\n",
              "</style>\n",
              "<table border=\"1\" class=\"dataframe\">\n",
              "  <thead>\n",
              "    <tr style=\"text-align: right;\">\n",
              "      <th></th>\n",
              "      <th>Pregnancies</th>\n",
              "      <th>Glucose</th>\n",
              "      <th>BloodPressure</th>\n",
              "      <th>SkinThickness</th>\n",
              "      <th>Insulin</th>\n",
              "      <th>BMI</th>\n",
              "      <th>DiabetesPedigreeFunction</th>\n",
              "      <th>Age</th>\n",
              "      <th>Outcome</th>\n",
              "    </tr>\n",
              "  </thead>\n",
              "  <tbody>\n",
              "    <tr>\n",
              "      <th>0</th>\n",
              "      <td>6</td>\n",
              "      <td>148</td>\n",
              "      <td>72</td>\n",
              "      <td>35</td>\n",
              "      <td>0</td>\n",
              "      <td>33.6</td>\n",
              "      <td>0.627</td>\n",
              "      <td>50</td>\n",
              "      <td>1</td>\n",
              "    </tr>\n",
              "    <tr>\n",
              "      <th>1</th>\n",
              "      <td>1</td>\n",
              "      <td>85</td>\n",
              "      <td>66</td>\n",
              "      <td>29</td>\n",
              "      <td>0</td>\n",
              "      <td>26.6</td>\n",
              "      <td>0.351</td>\n",
              "      <td>31</td>\n",
              "      <td>0</td>\n",
              "    </tr>\n",
              "    <tr>\n",
              "      <th>2</th>\n",
              "      <td>8</td>\n",
              "      <td>183</td>\n",
              "      <td>64</td>\n",
              "      <td>0</td>\n",
              "      <td>0</td>\n",
              "      <td>23.3</td>\n",
              "      <td>0.672</td>\n",
              "      <td>32</td>\n",
              "      <td>1</td>\n",
              "    </tr>\n",
              "    <tr>\n",
              "      <th>3</th>\n",
              "      <td>1</td>\n",
              "      <td>89</td>\n",
              "      <td>66</td>\n",
              "      <td>23</td>\n",
              "      <td>94</td>\n",
              "      <td>28.1</td>\n",
              "      <td>0.167</td>\n",
              "      <td>21</td>\n",
              "      <td>0</td>\n",
              "    </tr>\n",
              "    <tr>\n",
              "      <th>4</th>\n",
              "      <td>0</td>\n",
              "      <td>137</td>\n",
              "      <td>40</td>\n",
              "      <td>35</td>\n",
              "      <td>168</td>\n",
              "      <td>43.1</td>\n",
              "      <td>2.288</td>\n",
              "      <td>33</td>\n",
              "      <td>1</td>\n",
              "    </tr>\n",
              "  </tbody>\n",
              "</table>\n",
              "</div>\n",
              "      <button class=\"colab-df-convert\" onclick=\"convertToInteractive('df-1c2c271a-5d87-4550-871e-bb32c7529938')\"\n",
              "              title=\"Convert this dataframe to an interactive table.\"\n",
              "              style=\"display:none;\">\n",
              "        \n",
              "  <svg xmlns=\"http://www.w3.org/2000/svg\" height=\"24px\"viewBox=\"0 0 24 24\"\n",
              "       width=\"24px\">\n",
              "    <path d=\"M0 0h24v24H0V0z\" fill=\"none\"/>\n",
              "    <path d=\"M18.56 5.44l.94 2.06.94-2.06 2.06-.94-2.06-.94-.94-2.06-.94 2.06-2.06.94zm-11 1L8.5 8.5l.94-2.06 2.06-.94-2.06-.94L8.5 2.5l-.94 2.06-2.06.94zm10 10l.94 2.06.94-2.06 2.06-.94-2.06-.94-.94-2.06-.94 2.06-2.06.94z\"/><path d=\"M17.41 7.96l-1.37-1.37c-.4-.4-.92-.59-1.43-.59-.52 0-1.04.2-1.43.59L10.3 9.45l-7.72 7.72c-.78.78-.78 2.05 0 2.83L4 21.41c.39.39.9.59 1.41.59.51 0 1.02-.2 1.41-.59l7.78-7.78 2.81-2.81c.8-.78.8-2.07 0-2.86zM5.41 20L4 18.59l7.72-7.72 1.47 1.35L5.41 20z\"/>\n",
              "  </svg>\n",
              "      </button>\n",
              "      \n",
              "  <style>\n",
              "    .colab-df-container {\n",
              "      display:flex;\n",
              "      flex-wrap:wrap;\n",
              "      gap: 12px;\n",
              "    }\n",
              "\n",
              "    .colab-df-convert {\n",
              "      background-color: #E8F0FE;\n",
              "      border: none;\n",
              "      border-radius: 50%;\n",
              "      cursor: pointer;\n",
              "      display: none;\n",
              "      fill: #1967D2;\n",
              "      height: 32px;\n",
              "      padding: 0 0 0 0;\n",
              "      width: 32px;\n",
              "    }\n",
              "\n",
              "    .colab-df-convert:hover {\n",
              "      background-color: #E2EBFA;\n",
              "      box-shadow: 0px 1px 2px rgba(60, 64, 67, 0.3), 0px 1px 3px 1px rgba(60, 64, 67, 0.15);\n",
              "      fill: #174EA6;\n",
              "    }\n",
              "\n",
              "    [theme=dark] .colab-df-convert {\n",
              "      background-color: #3B4455;\n",
              "      fill: #D2E3FC;\n",
              "    }\n",
              "\n",
              "    [theme=dark] .colab-df-convert:hover {\n",
              "      background-color: #434B5C;\n",
              "      box-shadow: 0px 1px 3px 1px rgba(0, 0, 0, 0.15);\n",
              "      filter: drop-shadow(0px 1px 2px rgba(0, 0, 0, 0.3));\n",
              "      fill: #FFFFFF;\n",
              "    }\n",
              "  </style>\n",
              "\n",
              "      <script>\n",
              "        const buttonEl =\n",
              "          document.querySelector('#df-1c2c271a-5d87-4550-871e-bb32c7529938 button.colab-df-convert');\n",
              "        buttonEl.style.display =\n",
              "          google.colab.kernel.accessAllowed ? 'block' : 'none';\n",
              "\n",
              "        async function convertToInteractive(key) {\n",
              "          const element = document.querySelector('#df-1c2c271a-5d87-4550-871e-bb32c7529938');\n",
              "          const dataTable =\n",
              "            await google.colab.kernel.invokeFunction('convertToInteractive',\n",
              "                                                     [key], {});\n",
              "          if (!dataTable) return;\n",
              "\n",
              "          const docLinkHtml = 'Like what you see? Visit the ' +\n",
              "            '<a target=\"_blank\" href=https://colab.research.google.com/notebooks/data_table.ipynb>data table notebook</a>'\n",
              "            + ' to learn more about interactive tables.';\n",
              "          element.innerHTML = '';\n",
              "          dataTable['output_type'] = 'display_data';\n",
              "          await google.colab.output.renderOutput(dataTable, element);\n",
              "          const docLink = document.createElement('div');\n",
              "          docLink.innerHTML = docLinkHtml;\n",
              "          element.appendChild(docLink);\n",
              "        }\n",
              "      </script>\n",
              "    </div>\n",
              "  </div>\n",
              "  "
            ]
          },
          "metadata": {},
          "execution_count": 3
        }
      ]
    },
    {
      "cell_type": "markdown",
      "source": [
        "**Ustunlar:**\n",
        "*  Pregnancies: homilador bo’lish soni\n",
        "*  Glucose: glyukozaga test natijasi\n",
        "*  BloodPressure: diastolik qon bosimi (mm Hg)\n",
        "*  SkinThickness: Triceps teri burmasining qalinligi (mm)\n",
        "*  Insulin: 2 soatlik sarum insulini (mu U/ml)\n",
        "*  BMI: Tana massasi indeksi (vazn kg / (m bo’yi) ^ 2)\n",
        "*  DiabetesPedigreeFunction: diabetning naslchilik funktsiyasi\n",
        "*  Age: Yosh (yil)\n",
        "*  Outcome: Class (0 – diabet yo’q, 1 – diabet)"
      ],
      "metadata": {
        "id": "UrQfgn29nlm-"
      }
    },
    {
      "cell_type": "markdown",
      "source": [
        "**Tarkib:**\n",
        "\n",
        "Dataset ichidagi barcha bemorlar kamida 21 yoshli ayollar"
      ],
      "metadata": {
        "id": "MI9USXpenUA4"
      }
    },
    {
      "cell_type": "code",
      "source": [
        "df.shape  "
      ],
      "metadata": {
        "colab": {
          "base_uri": "https://localhost:8080/"
        },
        "id": "hM9YawP6qPeI",
        "outputId": "a386d52e-971e-4208-c3c1-f04c4b4e7c91"
      },
      "execution_count": 6,
      "outputs": [
        {
          "output_type": "execute_result",
          "data": {
            "text/plain": [
              "(768, 9)"
            ]
          },
          "metadata": {},
          "execution_count": 6
        }
      ]
    },
    {
      "cell_type": "code",
      "source": [
        "df.info()"
      ],
      "metadata": {
        "colab": {
          "base_uri": "https://localhost:8080/"
        },
        "id": "yVigEV5NoJ8q",
        "outputId": "281b52df-fe2c-488c-b7d9-d16a35bc6bc2"
      },
      "execution_count": 4,
      "outputs": [
        {
          "output_type": "stream",
          "name": "stdout",
          "text": [
            "<class 'pandas.core.frame.DataFrame'>\n",
            "RangeIndex: 768 entries, 0 to 767\n",
            "Data columns (total 9 columns):\n",
            " #   Column                    Non-Null Count  Dtype  \n",
            "---  ------                    --------------  -----  \n",
            " 0   Pregnancies               768 non-null    int64  \n",
            " 1   Glucose                   768 non-null    int64  \n",
            " 2   BloodPressure             768 non-null    int64  \n",
            " 3   SkinThickness             768 non-null    int64  \n",
            " 4   Insulin                   768 non-null    int64  \n",
            " 5   BMI                       768 non-null    float64\n",
            " 6   DiabetesPedigreeFunction  768 non-null    float64\n",
            " 7   Age                       768 non-null    int64  \n",
            " 8   Outcome                   768 non-null    int64  \n",
            "dtypes: float64(2), int64(7)\n",
            "memory usage: 54.1 KB\n"
          ]
        }
      ]
    },
    {
      "cell_type": "code",
      "source": [
        "df.isnull().sum()"
      ],
      "metadata": {
        "colab": {
          "base_uri": "https://localhost:8080/"
        },
        "id": "OzFkJtutp72X",
        "outputId": "8ebd400b-ba4b-4be2-c49b-710322cea8d8"
      },
      "execution_count": 5,
      "outputs": [
        {
          "output_type": "execute_result",
          "data": {
            "text/plain": [
              "Pregnancies                 0\n",
              "Glucose                     0\n",
              "BloodPressure               0\n",
              "SkinThickness               0\n",
              "Insulin                     0\n",
              "BMI                         0\n",
              "DiabetesPedigreeFunction    0\n",
              "Age                         0\n",
              "Outcome                     0\n",
              "dtype: int64"
            ]
          },
          "metadata": {},
          "execution_count": 5
        }
      ]
    },
    {
      "cell_type": "code",
      "source": [
        "df['Outcome'].value_counts()  # balans juda yomon holatda,farq juda katta"
      ],
      "metadata": {
        "colab": {
          "base_uri": "https://localhost:8080/"
        },
        "id": "L1_ch_dpqDK2",
        "outputId": "7f5c866d-a90f-41aa-cfcd-3c6a7a4037af"
      },
      "execution_count": 7,
      "outputs": [
        {
          "output_type": "execute_result",
          "data": {
            "text/plain": [
              "0    500\n",
              "1    268\n",
              "Name: Outcome, dtype: int64"
            ]
          },
          "metadata": {},
          "execution_count": 7
        }
      ]
    },
    {
      "cell_type": "code",
      "source": [
        "corr_matrix=df.corr().abs()\n",
        "corr_matrix.style.background_gradient(cmap=\"coolwarm\")"
      ],
      "metadata": {
        "colab": {
          "base_uri": "https://localhost:8080/",
          "height": 351
        },
        "id": "EhPYhFnlqb7X",
        "outputId": "7af2c98d-84e9-413c-89f5-bac1691fb857"
      },
      "execution_count": 12,
      "outputs": [
        {
          "output_type": "execute_result",
          "data": {
            "text/plain": [
              "<pandas.io.formats.style.Styler at 0x7fb674159d90>"
            ],
            "text/html": [
              "<style type=\"text/css\">\n",
              "#T_63463_row0_col0, #T_63463_row1_col1, #T_63463_row2_col2, #T_63463_row3_col3, #T_63463_row4_col4, #T_63463_row5_col5, #T_63463_row6_col6, #T_63463_row7_col7, #T_63463_row8_col8 {\n",
              "  background-color: #b40426;\n",
              "  color: #f1f1f1;\n",
              "}\n",
              "#T_63463_row0_col1 {\n",
              "  background-color: #516ddb;\n",
              "  color: #f1f1f1;\n",
              "}\n",
              "#T_63463_row0_col2 {\n",
              "  background-color: #5a78e4;\n",
              "  color: #f1f1f1;\n",
              "}\n",
              "#T_63463_row0_col3, #T_63463_row8_col2 {\n",
              "  background-color: #4257c9;\n",
              "  color: #f1f1f1;\n",
              "}\n",
              "#T_63463_row0_col4 {\n",
              "  background-color: #445acc;\n",
              "  color: #f1f1f1;\n",
              "}\n",
              "#T_63463_row0_col5, #T_63463_row0_col6, #T_63463_row1_col3, #T_63463_row2_col8, #T_63463_row3_col1, #T_63463_row5_col0, #T_63463_row5_col7, #T_63463_row6_col2, #T_63463_row6_col7, #T_63463_row7_col4, #T_63463_row7_col6 {\n",
              "  background-color: #3b4cc0;\n",
              "  color: #f1f1f1;\n",
              "}\n",
              "#T_63463_row0_col7 {\n",
              "  background-color: #e4d9d2;\n",
              "  color: #000000;\n",
              "}\n",
              "#T_63463_row0_col8 {\n",
              "  background-color: #6f92f3;\n",
              "  color: #f1f1f1;\n",
              "}\n",
              "#T_63463_row1_col0, #T_63463_row1_col2, #T_63463_row6_col8 {\n",
              "  background-color: #5e7de7;\n",
              "  color: #f1f1f1;\n",
              "}\n",
              "#T_63463_row1_col4 {\n",
              "  background-color: #9fbfff;\n",
              "  color: #000000;\n",
              "}\n",
              "#T_63463_row1_col5, #T_63463_row8_col0 {\n",
              "  background-color: #7ea1fa;\n",
              "  color: #f1f1f1;\n",
              "}\n",
              "#T_63463_row1_col6 {\n",
              "  background-color: #5b7ae5;\n",
              "  color: #f1f1f1;\n",
              "}\n",
              "#T_63463_row1_col7 {\n",
              "  background-color: #88abfd;\n",
              "  color: #000000;\n",
              "}\n",
              "#T_63463_row1_col8 {\n",
              "  background-color: #c9d7f0;\n",
              "  color: #000000;\n",
              "}\n",
              "#T_63463_row2_col0, #T_63463_row6_col5 {\n",
              "  background-color: #6282ea;\n",
              "  color: #f1f1f1;\n",
              "}\n",
              "#T_63463_row2_col1 {\n",
              "  background-color: #5977e3;\n",
              "  color: #f1f1f1;\n",
              "}\n",
              "#T_63463_row2_col3, #T_63463_row4_col6 {\n",
              "  background-color: #6c8ff1;\n",
              "  color: #f1f1f1;\n",
              "}\n",
              "#T_63463_row2_col4, #T_63463_row4_col2 {\n",
              "  background-color: #4961d2;\n",
              "  color: #f1f1f1;\n",
              "}\n",
              "#T_63463_row2_col5 {\n",
              "  background-color: #93b5fe;\n",
              "  color: #000000;\n",
              "}\n",
              "#T_63463_row2_col6, #T_63463_row3_col8, #T_63463_row4_col7 {\n",
              "  background-color: #3d50c3;\n",
              "  color: #f1f1f1;\n",
              "}\n",
              "#T_63463_row2_col7, #T_63463_row8_col7 {\n",
              "  background-color: #80a3fa;\n",
              "  color: #f1f1f1;\n",
              "}\n",
              "#T_63463_row3_col0 {\n",
              "  background-color: #4e68d8;\n",
              "  color: #f1f1f1;\n",
              "}\n",
              "#T_63463_row3_col2, #T_63463_row5_col1 {\n",
              "  background-color: #7295f4;\n",
              "  color: #f1f1f1;\n",
              "}\n",
              "#T_63463_row3_col4 {\n",
              "  background-color: #c4d5f3;\n",
              "  color: #000000;\n",
              "}\n",
              "#T_63463_row3_col5 {\n",
              "  background-color: #bad0f8;\n",
              "  color: #000000;\n",
              "}\n",
              "#T_63463_row3_col6 {\n",
              "  background-color: #6b8df0;\n",
              "  color: #f1f1f1;\n",
              "}\n",
              "#T_63463_row3_col7, #T_63463_row6_col1 {\n",
              "  background-color: #5470de;\n",
              "  color: #f1f1f1;\n",
              "}\n",
              "#T_63463_row4_col0 {\n",
              "  background-color: #4b64d5;\n",
              "  color: #f1f1f1;\n",
              "}\n",
              "#T_63463_row4_col1 {\n",
              "  background-color: #9bbcff;\n",
              "  color: #000000;\n",
              "}\n",
              "#T_63463_row4_col3 {\n",
              "  background-color: #c1d4f4;\n",
              "  color: #000000;\n",
              "}\n",
              "#T_63463_row4_col5 {\n",
              "  background-color: #7597f6;\n",
              "  color: #f1f1f1;\n",
              "}\n",
              "#T_63463_row4_col8 {\n",
              "  background-color: #4f69d9;\n",
              "  color: #f1f1f1;\n",
              "}\n",
              "#T_63463_row5_col2 {\n",
              "  background-color: #8db0fe;\n",
              "  color: #000000;\n",
              "}\n",
              "#T_63463_row5_col3 {\n",
              "  background-color: #b2ccfb;\n",
              "  color: #000000;\n",
              "}\n",
              "#T_63463_row5_col4 {\n",
              "  background-color: #6e90f2;\n",
              "  color: #f1f1f1;\n",
              "}\n",
              "#T_63463_row5_col6 {\n",
              "  background-color: #5d7ce6;\n",
              "  color: #f1f1f1;\n",
              "}\n",
              "#T_63463_row5_col8 {\n",
              "  background-color: #8badfd;\n",
              "  color: #000000;\n",
              "}\n",
              "#T_63463_row6_col0, #T_63463_row7_col5, #T_63463_row8_col3 {\n",
              "  background-color: #3f53c6;\n",
              "  color: #f1f1f1;\n",
              "}\n",
              "#T_63463_row6_col3 {\n",
              "  background-color: #6485ec;\n",
              "  color: #f1f1f1;\n",
              "}\n",
              "#T_63463_row6_col4 {\n",
              "  background-color: #6a8bef;\n",
              "  color: #f1f1f1;\n",
              "}\n",
              "#T_63463_row7_col0 {\n",
              "  background-color: #e6d7cf;\n",
              "  color: #000000;\n",
              "}\n",
              "#T_63463_row7_col1 {\n",
              "  background-color: #81a4fb;\n",
              "  color: #f1f1f1;\n",
              "}\n",
              "#T_63463_row7_col2 {\n",
              "  background-color: #7da0f9;\n",
              "  color: #f1f1f1;\n",
              "}\n",
              "#T_63463_row7_col3 {\n",
              "  background-color: #4c66d6;\n",
              "  color: #f1f1f1;\n",
              "}\n",
              "#T_63463_row7_col8 {\n",
              "  background-color: #7699f6;\n",
              "  color: #f1f1f1;\n",
              "}\n",
              "#T_63463_row8_col1 {\n",
              "  background-color: #cbd8ee;\n",
              "  color: #000000;\n",
              "}\n",
              "#T_63463_row8_col4 {\n",
              "  background-color: #5673e0;\n",
              "  color: #f1f1f1;\n",
              "}\n",
              "#T_63463_row8_col5 {\n",
              "  background-color: #97b8ff;\n",
              "  color: #000000;\n",
              "}\n",
              "#T_63463_row8_col6 {\n",
              "  background-color: #688aef;\n",
              "  color: #f1f1f1;\n",
              "}\n",
              "</style>\n",
              "<table id=\"T_63463_\" class=\"dataframe\">\n",
              "  <thead>\n",
              "    <tr>\n",
              "      <th class=\"blank level0\" >&nbsp;</th>\n",
              "      <th class=\"col_heading level0 col0\" >Pregnancies</th>\n",
              "      <th class=\"col_heading level0 col1\" >Glucose</th>\n",
              "      <th class=\"col_heading level0 col2\" >BloodPressure</th>\n",
              "      <th class=\"col_heading level0 col3\" >SkinThickness</th>\n",
              "      <th class=\"col_heading level0 col4\" >Insulin</th>\n",
              "      <th class=\"col_heading level0 col5\" >BMI</th>\n",
              "      <th class=\"col_heading level0 col6\" >DiabetesPedigreeFunction</th>\n",
              "      <th class=\"col_heading level0 col7\" >Age</th>\n",
              "      <th class=\"col_heading level0 col8\" >Outcome</th>\n",
              "    </tr>\n",
              "  </thead>\n",
              "  <tbody>\n",
              "    <tr>\n",
              "      <th id=\"T_63463_level0_row0\" class=\"row_heading level0 row0\" >Pregnancies</th>\n",
              "      <td id=\"T_63463_row0_col0\" class=\"data row0 col0\" >1.000000</td>\n",
              "      <td id=\"T_63463_row0_col1\" class=\"data row0 col1\" >0.129459</td>\n",
              "      <td id=\"T_63463_row0_col2\" class=\"data row0 col2\" >0.141282</td>\n",
              "      <td id=\"T_63463_row0_col3\" class=\"data row0 col3\" >0.081672</td>\n",
              "      <td id=\"T_63463_row0_col4\" class=\"data row0 col4\" >0.073535</td>\n",
              "      <td id=\"T_63463_row0_col5\" class=\"data row0 col5\" >0.017683</td>\n",
              "      <td id=\"T_63463_row0_col6\" class=\"data row0 col6\" >0.033523</td>\n",
              "      <td id=\"T_63463_row0_col7\" class=\"data row0 col7\" >0.544341</td>\n",
              "      <td id=\"T_63463_row0_col8\" class=\"data row0 col8\" >0.221898</td>\n",
              "    </tr>\n",
              "    <tr>\n",
              "      <th id=\"T_63463_level0_row1\" class=\"row_heading level0 row1\" >Glucose</th>\n",
              "      <td id=\"T_63463_row1_col0\" class=\"data row1 col0\" >0.129459</td>\n",
              "      <td id=\"T_63463_row1_col1\" class=\"data row1 col1\" >1.000000</td>\n",
              "      <td id=\"T_63463_row1_col2\" class=\"data row1 col2\" >0.152590</td>\n",
              "      <td id=\"T_63463_row1_col3\" class=\"data row1 col3\" >0.057328</td>\n",
              "      <td id=\"T_63463_row1_col4\" class=\"data row1 col4\" >0.331357</td>\n",
              "      <td id=\"T_63463_row1_col5\" class=\"data row1 col5\" >0.221071</td>\n",
              "      <td id=\"T_63463_row1_col6\" class=\"data row1 col6\" >0.137337</td>\n",
              "      <td id=\"T_63463_row1_col7\" class=\"data row1 col7\" >0.263514</td>\n",
              "      <td id=\"T_63463_row1_col8\" class=\"data row1 col8\" >0.466581</td>\n",
              "    </tr>\n",
              "    <tr>\n",
              "      <th id=\"T_63463_level0_row2\" class=\"row_heading level0 row2\" >BloodPressure</th>\n",
              "      <td id=\"T_63463_row2_col0\" class=\"data row2 col0\" >0.141282</td>\n",
              "      <td id=\"T_63463_row2_col1\" class=\"data row2 col1\" >0.152590</td>\n",
              "      <td id=\"T_63463_row2_col2\" class=\"data row2 col2\" >1.000000</td>\n",
              "      <td id=\"T_63463_row2_col3\" class=\"data row2 col3\" >0.207371</td>\n",
              "      <td id=\"T_63463_row2_col4\" class=\"data row2 col4\" >0.088933</td>\n",
              "      <td id=\"T_63463_row2_col5\" class=\"data row2 col5\" >0.281805</td>\n",
              "      <td id=\"T_63463_row2_col6\" class=\"data row2 col6\" >0.041265</td>\n",
              "      <td id=\"T_63463_row2_col7\" class=\"data row2 col7\" >0.239528</td>\n",
              "      <td id=\"T_63463_row2_col8\" class=\"data row2 col8\" >0.065068</td>\n",
              "    </tr>\n",
              "    <tr>\n",
              "      <th id=\"T_63463_level0_row3\" class=\"row_heading level0 row3\" >SkinThickness</th>\n",
              "      <td id=\"T_63463_row3_col0\" class=\"data row3 col0\" >0.081672</td>\n",
              "      <td id=\"T_63463_row3_col1\" class=\"data row3 col1\" >0.057328</td>\n",
              "      <td id=\"T_63463_row3_col2\" class=\"data row3 col2\" >0.207371</td>\n",
              "      <td id=\"T_63463_row3_col3\" class=\"data row3 col3\" >1.000000</td>\n",
              "      <td id=\"T_63463_row3_col4\" class=\"data row3 col4\" >0.436783</td>\n",
              "      <td id=\"T_63463_row3_col5\" class=\"data row3 col5\" >0.392573</td>\n",
              "      <td id=\"T_63463_row3_col6\" class=\"data row3 col6\" >0.183928</td>\n",
              "      <td id=\"T_63463_row3_col7\" class=\"data row3 col7\" >0.113970</td>\n",
              "      <td id=\"T_63463_row3_col8\" class=\"data row3 col8\" >0.074752</td>\n",
              "    </tr>\n",
              "    <tr>\n",
              "      <th id=\"T_63463_level0_row4\" class=\"row_heading level0 row4\" >Insulin</th>\n",
              "      <td id=\"T_63463_row4_col0\" class=\"data row4 col0\" >0.073535</td>\n",
              "      <td id=\"T_63463_row4_col1\" class=\"data row4 col1\" >0.331357</td>\n",
              "      <td id=\"T_63463_row4_col2\" class=\"data row4 col2\" >0.088933</td>\n",
              "      <td id=\"T_63463_row4_col3\" class=\"data row4 col3\" >0.436783</td>\n",
              "      <td id=\"T_63463_row4_col4\" class=\"data row4 col4\" >1.000000</td>\n",
              "      <td id=\"T_63463_row4_col5\" class=\"data row4 col5\" >0.197859</td>\n",
              "      <td id=\"T_63463_row4_col6\" class=\"data row4 col6\" >0.185071</td>\n",
              "      <td id=\"T_63463_row4_col7\" class=\"data row4 col7\" >0.042163</td>\n",
              "      <td id=\"T_63463_row4_col8\" class=\"data row4 col8\" >0.130548</td>\n",
              "    </tr>\n",
              "    <tr>\n",
              "      <th id=\"T_63463_level0_row5\" class=\"row_heading level0 row5\" >BMI</th>\n",
              "      <td id=\"T_63463_row5_col0\" class=\"data row5 col0\" >0.017683</td>\n",
              "      <td id=\"T_63463_row5_col1\" class=\"data row5 col1\" >0.221071</td>\n",
              "      <td id=\"T_63463_row5_col2\" class=\"data row5 col2\" >0.281805</td>\n",
              "      <td id=\"T_63463_row5_col3\" class=\"data row5 col3\" >0.392573</td>\n",
              "      <td id=\"T_63463_row5_col4\" class=\"data row5 col4\" >0.197859</td>\n",
              "      <td id=\"T_63463_row5_col5\" class=\"data row5 col5\" >1.000000</td>\n",
              "      <td id=\"T_63463_row5_col6\" class=\"data row5 col6\" >0.140647</td>\n",
              "      <td id=\"T_63463_row5_col7\" class=\"data row5 col7\" >0.036242</td>\n",
              "      <td id=\"T_63463_row5_col8\" class=\"data row5 col8\" >0.292695</td>\n",
              "    </tr>\n",
              "    <tr>\n",
              "      <th id=\"T_63463_level0_row6\" class=\"row_heading level0 row6\" >DiabetesPedigreeFunction</th>\n",
              "      <td id=\"T_63463_row6_col0\" class=\"data row6 col0\" >0.033523</td>\n",
              "      <td id=\"T_63463_row6_col1\" class=\"data row6 col1\" >0.137337</td>\n",
              "      <td id=\"T_63463_row6_col2\" class=\"data row6 col2\" >0.041265</td>\n",
              "      <td id=\"T_63463_row6_col3\" class=\"data row6 col3\" >0.183928</td>\n",
              "      <td id=\"T_63463_row6_col4\" class=\"data row6 col4\" >0.185071</td>\n",
              "      <td id=\"T_63463_row6_col5\" class=\"data row6 col5\" >0.140647</td>\n",
              "      <td id=\"T_63463_row6_col6\" class=\"data row6 col6\" >1.000000</td>\n",
              "      <td id=\"T_63463_row6_col7\" class=\"data row6 col7\" >0.033561</td>\n",
              "      <td id=\"T_63463_row6_col8\" class=\"data row6 col8\" >0.173844</td>\n",
              "    </tr>\n",
              "    <tr>\n",
              "      <th id=\"T_63463_level0_row7\" class=\"row_heading level0 row7\" >Age</th>\n",
              "      <td id=\"T_63463_row7_col0\" class=\"data row7 col0\" >0.544341</td>\n",
              "      <td id=\"T_63463_row7_col1\" class=\"data row7 col1\" >0.263514</td>\n",
              "      <td id=\"T_63463_row7_col2\" class=\"data row7 col2\" >0.239528</td>\n",
              "      <td id=\"T_63463_row7_col3\" class=\"data row7 col3\" >0.113970</td>\n",
              "      <td id=\"T_63463_row7_col4\" class=\"data row7 col4\" >0.042163</td>\n",
              "      <td id=\"T_63463_row7_col5\" class=\"data row7 col5\" >0.036242</td>\n",
              "      <td id=\"T_63463_row7_col6\" class=\"data row7 col6\" >0.033561</td>\n",
              "      <td id=\"T_63463_row7_col7\" class=\"data row7 col7\" >1.000000</td>\n",
              "      <td id=\"T_63463_row7_col8\" class=\"data row7 col8\" >0.238356</td>\n",
              "    </tr>\n",
              "    <tr>\n",
              "      <th id=\"T_63463_level0_row8\" class=\"row_heading level0 row8\" >Outcome</th>\n",
              "      <td id=\"T_63463_row8_col0\" class=\"data row8 col0\" >0.221898</td>\n",
              "      <td id=\"T_63463_row8_col1\" class=\"data row8 col1\" >0.466581</td>\n",
              "      <td id=\"T_63463_row8_col2\" class=\"data row8 col2\" >0.065068</td>\n",
              "      <td id=\"T_63463_row8_col3\" class=\"data row8 col3\" >0.074752</td>\n",
              "      <td id=\"T_63463_row8_col4\" class=\"data row8 col4\" >0.130548</td>\n",
              "      <td id=\"T_63463_row8_col5\" class=\"data row8 col5\" >0.292695</td>\n",
              "      <td id=\"T_63463_row8_col6\" class=\"data row8 col6\" >0.173844</td>\n",
              "      <td id=\"T_63463_row8_col7\" class=\"data row8 col7\" >0.238356</td>\n",
              "      <td id=\"T_63463_row8_col8\" class=\"data row8 col8\" >1.000000</td>\n",
              "    </tr>\n",
              "  </tbody>\n",
              "</table>\n"
            ]
          },
          "metadata": {},
          "execution_count": 12
        }
      ]
    },
    {
      "cell_type": "code",
      "source": [
        "df.corrwith(df[\"Outcome\"]).abs().sort_values(ascending=False)"
      ],
      "metadata": {
        "colab": {
          "base_uri": "https://localhost:8080/"
        },
        "id": "4Aml6pLbqzS6",
        "outputId": "4273841b-3b0b-465f-b492-cd3f65a661b0"
      },
      "execution_count": 14,
      "outputs": [
        {
          "output_type": "execute_result",
          "data": {
            "text/plain": [
              "Outcome                     1.000000\n",
              "Glucose                     0.466581\n",
              "BMI                         0.292695\n",
              "Age                         0.238356\n",
              "Pregnancies                 0.221898\n",
              "DiabetesPedigreeFunction    0.173844\n",
              "Insulin                     0.130548\n",
              "SkinThickness               0.074752\n",
              "BloodPressure               0.065068\n",
              "dtype: float64"
            ]
          },
          "metadata": {},
          "execution_count": 14
        }
      ]
    },
    {
      "cell_type": "code",
      "source": [
        "####################################"
      ],
      "metadata": {
        "id": "SiRBSZKhri9P"
      },
      "execution_count": null,
      "outputs": []
    },
    {
      "cell_type": "code",
      "source": [
        "df.columns"
      ],
      "metadata": {
        "colab": {
          "base_uri": "https://localhost:8080/"
        },
        "id": "WdJEGCnJr4_m",
        "outputId": "177fa699-c92e-4cb2-ea89-217139548f95"
      },
      "execution_count": 17,
      "outputs": [
        {
          "output_type": "execute_result",
          "data": {
            "text/plain": [
              "Index(['Pregnancies', 'Glucose', 'BloodPressure', 'SkinThickness', 'Insulin',\n",
              "       'BMI', 'DiabetesPedigreeFunction', 'Age', 'Outcome'],\n",
              "      dtype='object')"
            ]
          },
          "metadata": {},
          "execution_count": 17
        }
      ]
    },
    {
      "cell_type": "code",
      "source": [
        "for i in ['Glucose', 'BloodPressure', 'SkinThickness', 'Insulin','BMI', 'DiabetesPedigreeFunction']:\n",
        "  print(f\"df['{i}']={len(df[df[i]==0])}\")  # df ustunlaridagi jami nollar soni"
      ],
      "metadata": {
        "colab": {
          "base_uri": "https://localhost:8080/"
        },
        "id": "5nv9njfzsT_j",
        "outputId": "4a305d6b-c1d5-4b6a-ab42-cd13d2df4047"
      },
      "execution_count": 26,
      "outputs": [
        {
          "output_type": "stream",
          "name": "stdout",
          "text": [
            "df['Glucose']=5\n",
            "df['BloodPressure']=35\n",
            "df['SkinThickness']=227\n",
            "df['Insulin']=374\n",
            "df['BMI']=11\n",
            "df['DiabetesPedigreeFunction']=0\n"
          ]
        }
      ]
    },
    {
      "cell_type": "code",
      "source": [
        "# yoshlar bo'yicha gruppalaymanda,0 qiymatlarni np.nan qiymatga aylantirib chiqaman\n",
        "df[['Glucose', 'BloodPressure', 'SkinThickness', 'Insulin','BMI', 'DiabetesPedigreeFunction']]=df[['Glucose', 'BloodPressure', 'SkinThickness', 'Insulin','BMI', 'DiabetesPedigreeFunction']].replace({0:np.nan})"
      ],
      "metadata": {
        "id": "cOdEwPrOt1ir"
      },
      "execution_count": 31,
      "outputs": []
    },
    {
      "cell_type": "code",
      "source": [
        "# ikki ustundan tashqari hamma ustunlardagi 0 qiymatlar np.nan qiymatga aylantirildi"
      ],
      "metadata": {
        "id": "45ja-cM6s3h-"
      },
      "execution_count": null,
      "outputs": []
    },
    {
      "cell_type": "code",
      "source": [
        "for i in ['Glucose', 'BloodPressure', 'SkinThickness', 'Insulin','BMI', 'DiabetesPedigreeFunction']:\n",
        "  print(f\"df['{i}']={len(df[df[i]==0])}\")  # df ustunlaridagi jami nollar soni"
      ],
      "metadata": {
        "colab": {
          "base_uri": "https://localhost:8080/"
        },
        "id": "-4B5Wi8ju1q5",
        "outputId": "298c32a0-96a2-4541-945d-0b70d8ef7364"
      },
      "execution_count": 33,
      "outputs": [
        {
          "output_type": "stream",
          "name": "stdout",
          "text": [
            "df['Glucose']=0\n",
            "df['BloodPressure']=0\n",
            "df['SkinThickness']=0\n",
            "df['Insulin']=0\n",
            "df['BMI']=0\n",
            "df['DiabetesPedigreeFunction']=0\n"
          ]
        }
      ]
    },
    {
      "cell_type": "code",
      "source": [
        "df.describe()"
      ],
      "metadata": {
        "colab": {
          "base_uri": "https://localhost:8080/",
          "height": 364
        },
        "id": "jbh_U_lHvRUF",
        "outputId": "c732d921-f2ea-45fe-dd55-f2c64d555ab6"
      },
      "execution_count": 34,
      "outputs": [
        {
          "output_type": "execute_result",
          "data": {
            "text/plain": [
              "       Pregnancies     Glucose  BloodPressure  SkinThickness     Insulin  \\\n",
              "count   768.000000  763.000000     733.000000     541.000000  394.000000   \n",
              "mean      3.845052  121.686763      72.405184      29.153420  155.548223   \n",
              "std       3.369578   30.535641      12.382158      10.476982  118.775855   \n",
              "min       0.000000   44.000000      24.000000       7.000000   14.000000   \n",
              "25%       1.000000   99.000000      64.000000      22.000000   76.250000   \n",
              "50%       3.000000  117.000000      72.000000      29.000000  125.000000   \n",
              "75%       6.000000  141.000000      80.000000      36.000000  190.000000   \n",
              "max      17.000000  199.000000     122.000000      99.000000  846.000000   \n",
              "\n",
              "              BMI  DiabetesPedigreeFunction         Age     Outcome  \n",
              "count  757.000000                768.000000  768.000000  768.000000  \n",
              "mean    32.457464                  0.471876   33.240885    0.348958  \n",
              "std      6.924988                  0.331329   11.760232    0.476951  \n",
              "min     18.200000                  0.078000   21.000000    0.000000  \n",
              "25%     27.500000                  0.243750   24.000000    0.000000  \n",
              "50%     32.300000                  0.372500   29.000000    0.000000  \n",
              "75%     36.600000                  0.626250   41.000000    1.000000  \n",
              "max     67.100000                  2.420000   81.000000    1.000000  "
            ],
            "text/html": [
              "\n",
              "  <div id=\"df-86252e5c-097f-4279-b856-905c986eca33\">\n",
              "    <div class=\"colab-df-container\">\n",
              "      <div>\n",
              "<style scoped>\n",
              "    .dataframe tbody tr th:only-of-type {\n",
              "        vertical-align: middle;\n",
              "    }\n",
              "\n",
              "    .dataframe tbody tr th {\n",
              "        vertical-align: top;\n",
              "    }\n",
              "\n",
              "    .dataframe thead th {\n",
              "        text-align: right;\n",
              "    }\n",
              "</style>\n",
              "<table border=\"1\" class=\"dataframe\">\n",
              "  <thead>\n",
              "    <tr style=\"text-align: right;\">\n",
              "      <th></th>\n",
              "      <th>Pregnancies</th>\n",
              "      <th>Glucose</th>\n",
              "      <th>BloodPressure</th>\n",
              "      <th>SkinThickness</th>\n",
              "      <th>Insulin</th>\n",
              "      <th>BMI</th>\n",
              "      <th>DiabetesPedigreeFunction</th>\n",
              "      <th>Age</th>\n",
              "      <th>Outcome</th>\n",
              "    </tr>\n",
              "  </thead>\n",
              "  <tbody>\n",
              "    <tr>\n",
              "      <th>count</th>\n",
              "      <td>768.000000</td>\n",
              "      <td>763.000000</td>\n",
              "      <td>733.000000</td>\n",
              "      <td>541.000000</td>\n",
              "      <td>394.000000</td>\n",
              "      <td>757.000000</td>\n",
              "      <td>768.000000</td>\n",
              "      <td>768.000000</td>\n",
              "      <td>768.000000</td>\n",
              "    </tr>\n",
              "    <tr>\n",
              "      <th>mean</th>\n",
              "      <td>3.845052</td>\n",
              "      <td>121.686763</td>\n",
              "      <td>72.405184</td>\n",
              "      <td>29.153420</td>\n",
              "      <td>155.548223</td>\n",
              "      <td>32.457464</td>\n",
              "      <td>0.471876</td>\n",
              "      <td>33.240885</td>\n",
              "      <td>0.348958</td>\n",
              "    </tr>\n",
              "    <tr>\n",
              "      <th>std</th>\n",
              "      <td>3.369578</td>\n",
              "      <td>30.535641</td>\n",
              "      <td>12.382158</td>\n",
              "      <td>10.476982</td>\n",
              "      <td>118.775855</td>\n",
              "      <td>6.924988</td>\n",
              "      <td>0.331329</td>\n",
              "      <td>11.760232</td>\n",
              "      <td>0.476951</td>\n",
              "    </tr>\n",
              "    <tr>\n",
              "      <th>min</th>\n",
              "      <td>0.000000</td>\n",
              "      <td>44.000000</td>\n",
              "      <td>24.000000</td>\n",
              "      <td>7.000000</td>\n",
              "      <td>14.000000</td>\n",
              "      <td>18.200000</td>\n",
              "      <td>0.078000</td>\n",
              "      <td>21.000000</td>\n",
              "      <td>0.000000</td>\n",
              "    </tr>\n",
              "    <tr>\n",
              "      <th>25%</th>\n",
              "      <td>1.000000</td>\n",
              "      <td>99.000000</td>\n",
              "      <td>64.000000</td>\n",
              "      <td>22.000000</td>\n",
              "      <td>76.250000</td>\n",
              "      <td>27.500000</td>\n",
              "      <td>0.243750</td>\n",
              "      <td>24.000000</td>\n",
              "      <td>0.000000</td>\n",
              "    </tr>\n",
              "    <tr>\n",
              "      <th>50%</th>\n",
              "      <td>3.000000</td>\n",
              "      <td>117.000000</td>\n",
              "      <td>72.000000</td>\n",
              "      <td>29.000000</td>\n",
              "      <td>125.000000</td>\n",
              "      <td>32.300000</td>\n",
              "      <td>0.372500</td>\n",
              "      <td>29.000000</td>\n",
              "      <td>0.000000</td>\n",
              "    </tr>\n",
              "    <tr>\n",
              "      <th>75%</th>\n",
              "      <td>6.000000</td>\n",
              "      <td>141.000000</td>\n",
              "      <td>80.000000</td>\n",
              "      <td>36.000000</td>\n",
              "      <td>190.000000</td>\n",
              "      <td>36.600000</td>\n",
              "      <td>0.626250</td>\n",
              "      <td>41.000000</td>\n",
              "      <td>1.000000</td>\n",
              "    </tr>\n",
              "    <tr>\n",
              "      <th>max</th>\n",
              "      <td>17.000000</td>\n",
              "      <td>199.000000</td>\n",
              "      <td>122.000000</td>\n",
              "      <td>99.000000</td>\n",
              "      <td>846.000000</td>\n",
              "      <td>67.100000</td>\n",
              "      <td>2.420000</td>\n",
              "      <td>81.000000</td>\n",
              "      <td>1.000000</td>\n",
              "    </tr>\n",
              "  </tbody>\n",
              "</table>\n",
              "</div>\n",
              "      <button class=\"colab-df-convert\" onclick=\"convertToInteractive('df-86252e5c-097f-4279-b856-905c986eca33')\"\n",
              "              title=\"Convert this dataframe to an interactive table.\"\n",
              "              style=\"display:none;\">\n",
              "        \n",
              "  <svg xmlns=\"http://www.w3.org/2000/svg\" height=\"24px\"viewBox=\"0 0 24 24\"\n",
              "       width=\"24px\">\n",
              "    <path d=\"M0 0h24v24H0V0z\" fill=\"none\"/>\n",
              "    <path d=\"M18.56 5.44l.94 2.06.94-2.06 2.06-.94-2.06-.94-.94-2.06-.94 2.06-2.06.94zm-11 1L8.5 8.5l.94-2.06 2.06-.94-2.06-.94L8.5 2.5l-.94 2.06-2.06.94zm10 10l.94 2.06.94-2.06 2.06-.94-2.06-.94-.94-2.06-.94 2.06-2.06.94z\"/><path d=\"M17.41 7.96l-1.37-1.37c-.4-.4-.92-.59-1.43-.59-.52 0-1.04.2-1.43.59L10.3 9.45l-7.72 7.72c-.78.78-.78 2.05 0 2.83L4 21.41c.39.39.9.59 1.41.59.51 0 1.02-.2 1.41-.59l7.78-7.78 2.81-2.81c.8-.78.8-2.07 0-2.86zM5.41 20L4 18.59l7.72-7.72 1.47 1.35L5.41 20z\"/>\n",
              "  </svg>\n",
              "      </button>\n",
              "      \n",
              "  <style>\n",
              "    .colab-df-container {\n",
              "      display:flex;\n",
              "      flex-wrap:wrap;\n",
              "      gap: 12px;\n",
              "    }\n",
              "\n",
              "    .colab-df-convert {\n",
              "      background-color: #E8F0FE;\n",
              "      border: none;\n",
              "      border-radius: 50%;\n",
              "      cursor: pointer;\n",
              "      display: none;\n",
              "      fill: #1967D2;\n",
              "      height: 32px;\n",
              "      padding: 0 0 0 0;\n",
              "      width: 32px;\n",
              "    }\n",
              "\n",
              "    .colab-df-convert:hover {\n",
              "      background-color: #E2EBFA;\n",
              "      box-shadow: 0px 1px 2px rgba(60, 64, 67, 0.3), 0px 1px 3px 1px rgba(60, 64, 67, 0.15);\n",
              "      fill: #174EA6;\n",
              "    }\n",
              "\n",
              "    [theme=dark] .colab-df-convert {\n",
              "      background-color: #3B4455;\n",
              "      fill: #D2E3FC;\n",
              "    }\n",
              "\n",
              "    [theme=dark] .colab-df-convert:hover {\n",
              "      background-color: #434B5C;\n",
              "      box-shadow: 0px 1px 3px 1px rgba(0, 0, 0, 0.15);\n",
              "      filter: drop-shadow(0px 1px 2px rgba(0, 0, 0, 0.3));\n",
              "      fill: #FFFFFF;\n",
              "    }\n",
              "  </style>\n",
              "\n",
              "      <script>\n",
              "        const buttonEl =\n",
              "          document.querySelector('#df-86252e5c-097f-4279-b856-905c986eca33 button.colab-df-convert');\n",
              "        buttonEl.style.display =\n",
              "          google.colab.kernel.accessAllowed ? 'block' : 'none';\n",
              "\n",
              "        async function convertToInteractive(key) {\n",
              "          const element = document.querySelector('#df-86252e5c-097f-4279-b856-905c986eca33');\n",
              "          const dataTable =\n",
              "            await google.colab.kernel.invokeFunction('convertToInteractive',\n",
              "                                                     [key], {});\n",
              "          if (!dataTable) return;\n",
              "\n",
              "          const docLinkHtml = 'Like what you see? Visit the ' +\n",
              "            '<a target=\"_blank\" href=https://colab.research.google.com/notebooks/data_table.ipynb>data table notebook</a>'\n",
              "            + ' to learn more about interactive tables.';\n",
              "          element.innerHTML = '';\n",
              "          dataTable['output_type'] = 'display_data';\n",
              "          await google.colab.output.renderOutput(dataTable, element);\n",
              "          const docLink = document.createElement('div');\n",
              "          docLink.innerHTML = docLinkHtml;\n",
              "          element.appendChild(docLink);\n",
              "        }\n",
              "      </script>\n",
              "    </div>\n",
              "  </div>\n",
              "  "
            ]
          },
          "metadata": {},
          "execution_count": 34
        }
      ]
    },
    {
      "cell_type": "code",
      "source": [
        "# yoshlar ko'lami bo'yicha ham chegaralab bitta df ga ustun po'shamiz\n",
        "bins=[20,24.5,29.5,41.5,81.5]  # bunday o'nlik qiymat berishimga sabab,yoshni saralab olishda komp notogri ishlamaydi\n",
        "df[\"age_fill\"]=pd.cut(df[\"Age\"],bins=bins,labels=[1,2,3,4])\n",
        "df.head()"
      ],
      "metadata": {
        "colab": {
          "base_uri": "https://localhost:8080/",
          "height": 206
        },
        "id": "3FFwF71hvHVF",
        "outputId": "dcd1a5de-920f-485e-df40-ac0389d39d28"
      },
      "execution_count": 37,
      "outputs": [
        {
          "output_type": "execute_result",
          "data": {
            "text/plain": [
              "   Pregnancies  Glucose  BloodPressure  SkinThickness  Insulin   BMI  \\\n",
              "0            6    148.0           72.0           35.0      NaN  33.6   \n",
              "1            1     85.0           66.0           29.0      NaN  26.6   \n",
              "2            8    183.0           64.0            NaN      NaN  23.3   \n",
              "3            1     89.0           66.0           23.0     94.0  28.1   \n",
              "4            0    137.0           40.0           35.0    168.0  43.1   \n",
              "\n",
              "   DiabetesPedigreeFunction  Age  Outcome age_fill  \n",
              "0                     0.627   50        1        4  \n",
              "1                     0.351   31        0        3  \n",
              "2                     0.672   32        1        3  \n",
              "3                     0.167   21        0        1  \n",
              "4                     2.288   33        1        3  "
            ],
            "text/html": [
              "\n",
              "  <div id=\"df-8b233ad2-bb80-4d37-a585-f165449ff069\">\n",
              "    <div class=\"colab-df-container\">\n",
              "      <div>\n",
              "<style scoped>\n",
              "    .dataframe tbody tr th:only-of-type {\n",
              "        vertical-align: middle;\n",
              "    }\n",
              "\n",
              "    .dataframe tbody tr th {\n",
              "        vertical-align: top;\n",
              "    }\n",
              "\n",
              "    .dataframe thead th {\n",
              "        text-align: right;\n",
              "    }\n",
              "</style>\n",
              "<table border=\"1\" class=\"dataframe\">\n",
              "  <thead>\n",
              "    <tr style=\"text-align: right;\">\n",
              "      <th></th>\n",
              "      <th>Pregnancies</th>\n",
              "      <th>Glucose</th>\n",
              "      <th>BloodPressure</th>\n",
              "      <th>SkinThickness</th>\n",
              "      <th>Insulin</th>\n",
              "      <th>BMI</th>\n",
              "      <th>DiabetesPedigreeFunction</th>\n",
              "      <th>Age</th>\n",
              "      <th>Outcome</th>\n",
              "      <th>age_fill</th>\n",
              "    </tr>\n",
              "  </thead>\n",
              "  <tbody>\n",
              "    <tr>\n",
              "      <th>0</th>\n",
              "      <td>6</td>\n",
              "      <td>148.0</td>\n",
              "      <td>72.0</td>\n",
              "      <td>35.0</td>\n",
              "      <td>NaN</td>\n",
              "      <td>33.6</td>\n",
              "      <td>0.627</td>\n",
              "      <td>50</td>\n",
              "      <td>1</td>\n",
              "      <td>4</td>\n",
              "    </tr>\n",
              "    <tr>\n",
              "      <th>1</th>\n",
              "      <td>1</td>\n",
              "      <td>85.0</td>\n",
              "      <td>66.0</td>\n",
              "      <td>29.0</td>\n",
              "      <td>NaN</td>\n",
              "      <td>26.6</td>\n",
              "      <td>0.351</td>\n",
              "      <td>31</td>\n",
              "      <td>0</td>\n",
              "      <td>3</td>\n",
              "    </tr>\n",
              "    <tr>\n",
              "      <th>2</th>\n",
              "      <td>8</td>\n",
              "      <td>183.0</td>\n",
              "      <td>64.0</td>\n",
              "      <td>NaN</td>\n",
              "      <td>NaN</td>\n",
              "      <td>23.3</td>\n",
              "      <td>0.672</td>\n",
              "      <td>32</td>\n",
              "      <td>1</td>\n",
              "      <td>3</td>\n",
              "    </tr>\n",
              "    <tr>\n",
              "      <th>3</th>\n",
              "      <td>1</td>\n",
              "      <td>89.0</td>\n",
              "      <td>66.0</td>\n",
              "      <td>23.0</td>\n",
              "      <td>94.0</td>\n",
              "      <td>28.1</td>\n",
              "      <td>0.167</td>\n",
              "      <td>21</td>\n",
              "      <td>0</td>\n",
              "      <td>1</td>\n",
              "    </tr>\n",
              "    <tr>\n",
              "      <th>4</th>\n",
              "      <td>0</td>\n",
              "      <td>137.0</td>\n",
              "      <td>40.0</td>\n",
              "      <td>35.0</td>\n",
              "      <td>168.0</td>\n",
              "      <td>43.1</td>\n",
              "      <td>2.288</td>\n",
              "      <td>33</td>\n",
              "      <td>1</td>\n",
              "      <td>3</td>\n",
              "    </tr>\n",
              "  </tbody>\n",
              "</table>\n",
              "</div>\n",
              "      <button class=\"colab-df-convert\" onclick=\"convertToInteractive('df-8b233ad2-bb80-4d37-a585-f165449ff069')\"\n",
              "              title=\"Convert this dataframe to an interactive table.\"\n",
              "              style=\"display:none;\">\n",
              "        \n",
              "  <svg xmlns=\"http://www.w3.org/2000/svg\" height=\"24px\"viewBox=\"0 0 24 24\"\n",
              "       width=\"24px\">\n",
              "    <path d=\"M0 0h24v24H0V0z\" fill=\"none\"/>\n",
              "    <path d=\"M18.56 5.44l.94 2.06.94-2.06 2.06-.94-2.06-.94-.94-2.06-.94 2.06-2.06.94zm-11 1L8.5 8.5l.94-2.06 2.06-.94-2.06-.94L8.5 2.5l-.94 2.06-2.06.94zm10 10l.94 2.06.94-2.06 2.06-.94-2.06-.94-.94-2.06-.94 2.06-2.06.94z\"/><path d=\"M17.41 7.96l-1.37-1.37c-.4-.4-.92-.59-1.43-.59-.52 0-1.04.2-1.43.59L10.3 9.45l-7.72 7.72c-.78.78-.78 2.05 0 2.83L4 21.41c.39.39.9.59 1.41.59.51 0 1.02-.2 1.41-.59l7.78-7.78 2.81-2.81c.8-.78.8-2.07 0-2.86zM5.41 20L4 18.59l7.72-7.72 1.47 1.35L5.41 20z\"/>\n",
              "  </svg>\n",
              "      </button>\n",
              "      \n",
              "  <style>\n",
              "    .colab-df-container {\n",
              "      display:flex;\n",
              "      flex-wrap:wrap;\n",
              "      gap: 12px;\n",
              "    }\n",
              "\n",
              "    .colab-df-convert {\n",
              "      background-color: #E8F0FE;\n",
              "      border: none;\n",
              "      border-radius: 50%;\n",
              "      cursor: pointer;\n",
              "      display: none;\n",
              "      fill: #1967D2;\n",
              "      height: 32px;\n",
              "      padding: 0 0 0 0;\n",
              "      width: 32px;\n",
              "    }\n",
              "\n",
              "    .colab-df-convert:hover {\n",
              "      background-color: #E2EBFA;\n",
              "      box-shadow: 0px 1px 2px rgba(60, 64, 67, 0.3), 0px 1px 3px 1px rgba(60, 64, 67, 0.15);\n",
              "      fill: #174EA6;\n",
              "    }\n",
              "\n",
              "    [theme=dark] .colab-df-convert {\n",
              "      background-color: #3B4455;\n",
              "      fill: #D2E3FC;\n",
              "    }\n",
              "\n",
              "    [theme=dark] .colab-df-convert:hover {\n",
              "      background-color: #434B5C;\n",
              "      box-shadow: 0px 1px 3px 1px rgba(0, 0, 0, 0.15);\n",
              "      filter: drop-shadow(0px 1px 2px rgba(0, 0, 0, 0.3));\n",
              "      fill: #FFFFFF;\n",
              "    }\n",
              "  </style>\n",
              "\n",
              "      <script>\n",
              "        const buttonEl =\n",
              "          document.querySelector('#df-8b233ad2-bb80-4d37-a585-f165449ff069 button.colab-df-convert');\n",
              "        buttonEl.style.display =\n",
              "          google.colab.kernel.accessAllowed ? 'block' : 'none';\n",
              "\n",
              "        async function convertToInteractive(key) {\n",
              "          const element = document.querySelector('#df-8b233ad2-bb80-4d37-a585-f165449ff069');\n",
              "          const dataTable =\n",
              "            await google.colab.kernel.invokeFunction('convertToInteractive',\n",
              "                                                     [key], {});\n",
              "          if (!dataTable) return;\n",
              "\n",
              "          const docLinkHtml = 'Like what you see? Visit the ' +\n",
              "            '<a target=\"_blank\" href=https://colab.research.google.com/notebooks/data_table.ipynb>data table notebook</a>'\n",
              "            + ' to learn more about interactive tables.';\n",
              "          element.innerHTML = '';\n",
              "          dataTable['output_type'] = 'display_data';\n",
              "          await google.colab.output.renderOutput(dataTable, element);\n",
              "          const docLink = document.createElement('div');\n",
              "          docLink.innerHTML = docLinkHtml;\n",
              "          element.appendChild(docLink);\n",
              "        }\n",
              "      </script>\n",
              "    </div>\n",
              "  </div>\n",
              "  "
            ]
          },
          "metadata": {},
          "execution_count": 37
        }
      ]
    },
    {
      "cell_type": "code",
      "source": [
        "pd.cut(df.Age,bins).value_counts()  # oraliqqa kiruvchi yoshlarning sonini ko'rishimiz mumkin \"DEYARLI BALANS YAXSHI\""
      ],
      "metadata": {
        "colab": {
          "base_uri": "https://localhost:8080/"
        },
        "id": "zVTLzEl8wJsV",
        "outputId": "6ee9eb20-3009-4a8c-c5ca-139cc27dcdcb"
      },
      "execution_count": 39,
      "outputs": [
        {
          "output_type": "execute_result",
          "data": {
            "text/plain": [
              "(20.0, 24.5]    219\n",
              "(29.5, 41.5]    200\n",
              "(24.5, 29.5]    177\n",
              "(41.5, 81.5]    172\n",
              "Name: Age, dtype: int64"
            ]
          },
          "metadata": {},
          "execution_count": 39
        }
      ]
    },
    {
      "cell_type": "code",
      "source": [
        "df[\"age_fill\"].value_counts()"
      ],
      "metadata": {
        "colab": {
          "base_uri": "https://localhost:8080/"
        },
        "id": "1NlKXljxwu0R",
        "outputId": "2a5395e7-1801-402e-ae7a-b95dad1d03a8"
      },
      "execution_count": 41,
      "outputs": [
        {
          "output_type": "execute_result",
          "data": {
            "text/plain": [
              "1    219\n",
              "3    200\n",
              "2    177\n",
              "4    172\n",
              "Name: age_fill, dtype: int64"
            ]
          },
          "metadata": {},
          "execution_count": 41
        }
      ]
    },
    {
      "cell_type": "code",
      "source": [
        "from numpy.lib.function_base import median\n",
        "df[df[\"age_fill\"]==1]=df[df[\"age_fill\"]==1].fillna(method=\"ffill\")\n",
        "df[df[\"age_fill\"]==2]=df[df[\"age_fill\"]==2].fillna(method=\"ffill\")\n",
        "df[df[\"age_fill\"]==3]=df[df[\"age_fill\"]==3].fillna(method=\"ffill\")\n",
        "df[df[\"age_fill\"]==4]=df[df[\"age_fill\"]==4].fillna(method=\"ffill\")"
      ],
      "metadata": {
        "id": "T4iULX1zxPUi"
      },
      "execution_count": 53,
      "outputs": []
    },
    {
      "cell_type": "code",
      "source": [
        "df[\"Insulin\"]=df[\"Insulin\"].fillna(method=\"bfill\")\n",
        "df.isnull().sum()"
      ],
      "metadata": {
        "colab": {
          "base_uri": "https://localhost:8080/"
        },
        "id": "KCIDJooN0AoQ",
        "outputId": "54d55734-ef95-4b0a-d4e3-4ef47e81606f"
      },
      "execution_count": 57,
      "outputs": [
        {
          "output_type": "execute_result",
          "data": {
            "text/plain": [
              "Pregnancies                 0\n",
              "Glucose                     0\n",
              "BloodPressure               0\n",
              "SkinThickness               0\n",
              "Insulin                     0\n",
              "BMI                         0\n",
              "DiabetesPedigreeFunction    0\n",
              "Age                         0\n",
              "Outcome                     0\n",
              "age_fill                    0\n",
              "dtype: int64"
            ]
          },
          "metadata": {},
          "execution_count": 57
        }
      ]
    },
    {
      "cell_type": "code",
      "source": [
        "df.isnull().sum()   # bitta kichik yutuqqa erishdik,yoshlar ko'lami bo'yicha nan qiymtalarni to'ldirib chiqdik"
      ],
      "metadata": {
        "colab": {
          "base_uri": "https://localhost:8080/"
        },
        "id": "aq5L6RzCxbHW",
        "outputId": "dcce13d3-82d4-49bd-fe30-28b7b17b3d68"
      },
      "execution_count": 54,
      "outputs": [
        {
          "output_type": "execute_result",
          "data": {
            "text/plain": [
              "Pregnancies                 0\n",
              "Glucose                     0\n",
              "BloodPressure               0\n",
              "SkinThickness               0\n",
              "Insulin                     3\n",
              "BMI                         0\n",
              "DiabetesPedigreeFunction    0\n",
              "Age                         0\n",
              "Outcome                     0\n",
              "age_fill                    0\n",
              "dtype: int64"
            ]
          },
          "metadata": {},
          "execution_count": 54
        }
      ]
    },
    {
      "cell_type": "code",
      "source": [
        "df.corrwith(df[\"Outcome\"]).sort_values(ascending=False) #corr ni biroz bolsa ham ko'taribiz::)"
      ],
      "metadata": {
        "colab": {
          "base_uri": "https://localhost:8080/"
        },
        "id": "1Sc_Uq8VzdvD",
        "outputId": "4dac58ff-9478-44f2-e886-199f6d3c2da9"
      },
      "execution_count": 60,
      "outputs": [
        {
          "output_type": "execute_result",
          "data": {
            "text/plain": [
              "Outcome                     1.000000\n",
              "Glucose                     0.494973\n",
              "BMI                         0.310775\n",
              "Age                         0.238356\n",
              "Pregnancies                 0.221898\n",
              "SkinThickness               0.205794\n",
              "Insulin                     0.174059\n",
              "DiabetesPedigreeFunction    0.173844\n",
              "BloodPressure               0.171629\n",
              "dtype: float64"
            ]
          },
          "metadata": {},
          "execution_count": 60
        }
      ]
    },
    {
      "cell_type": "markdown",
      "source": [
        "# **ML ga tayyorlaymiz**"
      ],
      "metadata": {
        "id": "9kINEfX53Q-f"
      }
    },
    {
      "cell_type": "code",
      "source": [
        "# ML ga tayyorlanamiz\n",
        "df.drop(\"age_fill\",axis=1,inplace=True)\n",
        "X = df.drop(\"Outcome\",axis=1).values\n",
        "y = df[\"Outcome\"]"
      ],
      "metadata": {
        "id": "yfbLzGyE0biH"
      },
      "execution_count": 61,
      "outputs": []
    },
    {
      "cell_type": "code",
      "source": [
        "from sklearn.preprocessing import StandardScaler\n",
        "scaler = StandardScaler()"
      ],
      "metadata": {
        "id": "XmJmnsLJ18NL"
      },
      "execution_count": 62,
      "outputs": []
    },
    {
      "cell_type": "code",
      "source": [
        "X = scaler.fit_transform(X)"
      ],
      "metadata": {
        "id": "ma1DEsXj2K1-"
      },
      "execution_count": 63,
      "outputs": []
    },
    {
      "cell_type": "code",
      "source": [
        "from sklearn.model_selection import train_test_split\n",
        "X_train,X_test,y_train,y_test = train_test_split(X,y,random_state=21,train_size=0.8)"
      ],
      "metadata": {
        "id": "QWnF_dbw2Pr2"
      },
      "execution_count": 64,
      "outputs": []
    },
    {
      "cell_type": "markdown",
      "source": [
        "# **ML**"
      ],
      "metadata": {
        "id": "jvO2x55T3Msq"
      }
    },
    {
      "cell_type": "code",
      "source": [
        "# modelni quramiz\n",
        "from sklearn.neighbors import KNeighborsClassifier\n",
        "knn_model = KNeighborsClassifier(n_neighbors=5)"
      ],
      "metadata": {
        "id": "jvwqUcCS2k7U"
      },
      "execution_count": 65,
      "outputs": []
    },
    {
      "cell_type": "code",
      "source": [
        "knn_model.fit(X_train,y_train)"
      ],
      "metadata": {
        "colab": {
          "base_uri": "https://localhost:8080/"
        },
        "id": "KSRLq1AS25QL",
        "outputId": "71a6aead-e2c7-4640-dc4c-bf3aefbc793c"
      },
      "execution_count": 66,
      "outputs": [
        {
          "output_type": "execute_result",
          "data": {
            "text/plain": [
              "KNeighborsClassifier()"
            ]
          },
          "metadata": {},
          "execution_count": 66
        }
      ]
    },
    {
      "cell_type": "code",
      "source": [
        "y_predict = knn_model.predict(X_test)"
      ],
      "metadata": {
        "id": "3oEK1qLK2_Vo"
      },
      "execution_count": 67,
      "outputs": []
    },
    {
      "cell_type": "markdown",
      "source": [
        "# **Baholash**"
      ],
      "metadata": {
        "id": "osZrdSFQ3awX"
      }
    },
    {
      "cell_type": "markdown",
      "source": [
        "**Jaccard index**"
      ],
      "metadata": {
        "id": "GNSh4nu63w7F"
      }
    },
    {
      "cell_type": "code",
      "source": [
        "from sklearn.metrics import jaccard_score\n",
        "jaccard_score(y_predict,y_test)"
      ],
      "metadata": {
        "colab": {
          "base_uri": "https://localhost:8080/"
        },
        "id": "syduXUfF3InA",
        "outputId": "d1a212dc-0641-41b7-adb9-129a25ece2a6"
      },
      "execution_count": 68,
      "outputs": [
        {
          "output_type": "execute_result",
          "data": {
            "text/plain": [
              "0.41333333333333333"
            ]
          },
          "metadata": {},
          "execution_count": 68
        }
      ]
    },
    {
      "cell_type": "markdown",
      "source": [
        "**confusion matrix**"
      ],
      "metadata": {
        "id": "NXYLqijq367f"
      }
    },
    {
      "cell_type": "code",
      "source": [
        "from sklearn.metrics import confusion_matrix\n",
        "confu_matr = confusion_matrix(y_predict,y_test)\n",
        "confu_matr  #aslini olganda juda yomon,:))"
      ],
      "metadata": {
        "colab": {
          "base_uri": "https://localhost:8080/"
        },
        "id": "ATjBQsUb3qBA",
        "outputId": "5d912e4c-61c5-4d04-cb82-2f124d0022fc"
      },
      "execution_count": 71,
      "outputs": [
        {
          "output_type": "execute_result",
          "data": {
            "text/plain": [
              "array([[79, 29],\n",
              "       [15, 31]])"
            ]
          },
          "metadata": {},
          "execution_count": 71
        }
      ]
    },
    {
      "cell_type": "code",
      "source": [
        "plt.figure(figsize=(8,6))\n",
        "sns.heatmap(confu_matr,annot=True)\n",
        "plt.show()"
      ],
      "metadata": {
        "colab": {
          "base_uri": "https://localhost:8080/",
          "height": 374
        },
        "id": "jqwIjCeo4mTc",
        "outputId": "214a6032-925d-4c72-db62-9d4328cf2296"
      },
      "execution_count": 74,
      "outputs": [
        {
          "output_type": "display_data",
          "data": {
            "text/plain": [
              "<Figure size 576x432 with 2 Axes>"
            ],
            "image/png": "[encoded data removed]"
          },
          "metadata": {
            "needs_background": "light"
          }
        }
      ]
    },
    {
      "cell_type": "code",
      "source": [
        "# o'lchashning boshqa usullarini ham ko'ramiz\n"
      ],
      "metadata": {
        "id": "yZaKLtiD5E0N"
      },
      "execution_count": null,
      "outputs": []
    },
    {
      "cell_type": "code",
      "source": [
        "from sklearn.metrics import precision_score,recall_score,accuracy_score,f1_score\n",
        "precision = precision_score(y_test, y_predict)\n",
        "recall = recall_score(y_test, y_predict)\n",
        "f1 = f1_score(y_test, y_predict)\n",
        "accuracy = accuracy_score(y_test, y_predict)\n",
        "print(f\"precision={precision} \\nrecall={recall} \\nf1={f1} \\naccuracy={accuracy}\")"
      ],
      "metadata": {
        "colab": {
          "base_uri": "https://localhost:8080/"
        },
        "id": "yPbfcaaO5jT0",
        "outputId": "61917a0b-e9ef-4d73-c2e0-7fb61be2f329"
      },
      "execution_count": 81,
      "outputs": [
        {
          "output_type": "stream",
          "name": "stdout",
          "text": [
            "precision=0.6739130434782609 \n",
            "recall=0.5166666666666667 \n",
            "f1=0.5849056603773585 \n",
            "accuracy=0.7142857142857143\n"
          ]
        }
      ]
    },
    {
      "cell_type": "code",
      "source": [
        "from sklearn.metrics import classification_report\n",
        "print(classification_report(y_predict,y_test))"
      ],
      "metadata": {
        "colab": {
          "base_uri": "https://localhost:8080/"
        },
        "id": "U0ag6H_07txy",
        "outputId": "f1015233-83e4-4a0a-8c52-824a72606464"
      },
      "execution_count": 84,
      "outputs": [
        {
          "output_type": "stream",
          "name": "stdout",
          "text": [
            "              precision    recall  f1-score   support\n",
            "\n",
            "           0       0.84      0.73      0.78       108\n",
            "           1       0.52      0.67      0.58        46\n",
            "\n",
            "    accuracy                           0.71       154\n",
            "   macro avg       0.68      0.70      0.68       154\n",
            "weighted avg       0.74      0.71      0.72       154\n",
            "\n"
          ]
        }
      ]
    },
    {
      "cell_type": "markdown",
      "source": [
        "**Cross-validation yordamida ham tekshirishimiz mumkin**"
      ],
      "metadata": {
        "id": "TBJubrny-cGF"
      }
    },
    {
      "cell_type": "code",
      "source": [
        "from sklearn.model_selection import cross_val_predict\n",
        "predict = cross_val_predict(estimator=knn_model,X=X,y=y,cv=5)\n",
        "\n",
        "print(f\"Classification_report: {classification_report(predict,y)}\")"
      ],
      "metadata": {
        "colab": {
          "base_uri": "https://localhost:8080/"
        },
        "id": "vkHee1-19EQJ",
        "outputId": "5a19fcc2-f1a2-46a1-8b63-03ca0f592b8a"
      },
      "execution_count": 85,
      "outputs": [
        {
          "output_type": "stream",
          "name": "stdout",
          "text": [
            "Classification_report:               precision    recall  f1-score   support\n",
            "\n",
            "           0       0.84      0.79      0.81       534\n",
            "           1       0.58      0.66      0.62       234\n",
            "\n",
            "    accuracy                           0.75       768\n",
            "   macro avg       0.71      0.73      0.72       768\n",
            "weighted avg       0.76      0.75      0.75       768\n",
            "\n"
          ]
        }
      ]
    },
    {
      "cell_type": "code",
      "source": [
        "from sklearn.model_selection import cross_val_predict\n",
        "predict_ = cross_val_predict(estimator=knn_model,X=X_test,y=y_test,cv=5)\n",
        "\n",
        "print(f\"Classification_report: {classification_report(predict_,y_test)}\")"
      ],
      "metadata": {
        "colab": {
          "base_uri": "https://localhost:8080/"
        },
        "id": "fjR71Ew3_Pr2",
        "outputId": "56a7adb6-4268-451d-b8c5-835f7c951436"
      },
      "execution_count": 88,
      "outputs": [
        {
          "output_type": "stream",
          "name": "stdout",
          "text": [
            "Classification_report:               precision    recall  f1-score   support\n",
            "\n",
            "           0       0.78      0.74      0.76        98\n",
            "           1       0.58      0.62      0.60        56\n",
            "\n",
            "    accuracy                           0.70       154\n",
            "   macro avg       0.68      0.68      0.68       154\n",
            "weighted avg       0.71      0.70      0.70       154\n",
            "\n"
          ]
        }
      ]
    },
    {
      "cell_type": "markdown",
      "source": [
        "# Eng yaxshi k ni topish\n",
        "for yordamida"
      ],
      "metadata": {
        "id": "m4Rs4aE5CA-N"
      }
    },
    {
      "cell_type": "code",
      "source": [
        "from matplotlib.markers import MarkerStyle\n",
        "f=[]\n",
        "for k in range(1,25):\n",
        "  knn = KNeighborsClassifier(n_neighbors=k)\n",
        "  knn.fit(X_train,y_train)\n",
        "  predict = knn.predict(X_test)\n",
        "  f.append(f1_score(predict,y_test))\n",
        "plt.figure(figsize=(12,8))\n",
        "plt.xticks(range(1,25))\n",
        "plt.plot(range(1,25),f,marker=\"o\",color=\"r\")\n",
        "plt.grid()\n",
        "plt.show()             \n",
        "# grafikning y ustunidagi max qiymat biz uchun eng optimal qiymat boladi.Demak n_neighbors=5 eng yaxshi javob ekan"
      ],
      "metadata": {
        "colab": {
          "base_uri": "https://localhost:8080/",
          "height": 483
        },
        "id": "uYmZaz_z_mnG",
        "outputId": "527684cd-505d-406e-d474-424294f77b6b"
      },
      "execution_count": 96,
      "outputs": [
        {
          "output_type": "display_data",
          "data": {
            "text/plain": [
              "<Figure size 864x576 with 1 Axes>"
            ],
            "image/png": "[encoded data removed]"
          },
          "metadata": {
            "needs_background": "light"
          }
        }
      ]
    },
    {
      "cell_type": "markdown",
      "source": [
        "## **Grid Search yordamida ham foydali ma'luotlarni olishimiz mumkin**"
      ],
      "metadata": {
        "id": "9LX9DyoFDT2a"
      }
    },
    {
      "cell_type": "code",
      "source": [
        "#  knn = KNeighborsClassifier(n_neighbors=k) ga teng edi\n",
        "knn_ = KNeighborsClassifier(n_neighbors=5)\n",
        "from sklearn.model_selection import GridSearchCV\n",
        "\n",
        "param_grid = {\"n_neighbors\":np.arange(1,25)}\n",
        "\n",
        "knn_gscv = GridSearchCV(knn_,param_grid,cv=5)\n",
        "\n",
        "knn_gscv.fit(X,y)"
      ],
      "metadata": {
        "colab": {
          "base_uri": "https://localhost:8080/"
        },
        "id": "jdpOgLrJDTs2",
        "outputId": "3d0a334a-7be7-4252-8de9-de8888113ad3"
      },
      "execution_count": 105,
      "outputs": [
        {
          "output_type": "execute_result",
          "data": {
            "text/plain": [
              "GridSearchCV(cv=5, estimator=KNeighborsClassifier(),\n",
              "             param_grid={'n_neighbors': array([ 1,  2,  3,  4,  5,  6,  7,  8,  9, 10, 11, 12, 13, 14, 15, 16, 17,\n",
              "       18, 19, 20, 21, 22, 23, 24])})"
            ]
          },
          "metadata": {},
          "execution_count": 105
        }
      ]
    },
    {
      "cell_type": "code",
      "source": [
        "knn_gscv.cv_results_  #bu usulda bizga kerak bolgan eng yaxshi ustunlarni ko'rishimiz mumkin"
      ],
      "metadata": {
        "colab": {
          "base_uri": "https://localhost:8080/"
        },
        "id": "HwfztEcTIyh7",
        "outputId": "226085a4-5e58-4349-c43f-7e1cee40ea5a"
      },
      "execution_count": 113,
      "outputs": [
        {
          "output_type": "execute_result",
          "data": {
            "text/plain": [
              "{'mean_fit_time': array([0.00431666, 0.00293479, 0.00293722, 0.00299044, 0.00267749,\n",
              "        0.00282269, 0.00261378, 0.00383716, 0.00339928, 0.00295129,\n",
              "        0.00276046, 0.00291877, 0.00280704, 0.00279169, 0.00372138,\n",
              "        0.00275645, 0.00287728, 0.00300999, 0.00302162, 0.00268016,\n",
              "        0.00279927, 0.00294638, 0.00263495, 0.00257301]),\n",
              " 'mean_score_time': array([0.01155095, 0.01293812, 0.01195998, 0.01481204, 0.01426482,\n",
              "        0.01285939, 0.01278682, 0.01403556, 0.01596198, 0.01441426,\n",
              "        0.01444998, 0.01305571, 0.01513276, 0.01400652, 0.0137423 ,\n",
              "        0.01353164, 0.01411719, 0.01553082, 0.01375389, 0.01458378,\n",
              "        0.01728206, 0.01413631, 0.01329575, 0.01673608]),\n",
              " 'mean_test_score': array([0.701808  , 0.70963416, 0.7253459 , 0.72529497, 0.7500382 ,\n",
              "        0.73181394, 0.75524149, 0.7500382 , 0.74615907, 0.74356167,\n",
              "        0.75136236, 0.75136236, 0.7709023 , 0.76308463, 0.77091928,\n",
              "        0.75527544, 0.75787285, 0.75137085, 0.76181139, 0.75918004,\n",
              "        0.7579068 , 0.75791529, 0.76572447, 0.76832187]),\n",
              " 'param_n_neighbors': masked_array(data=[1, 2, 3, 4, 5, 6, 7, 8, 9, 10, 11, 12, 13, 14, 15, 16,\n",
              "                    17, 18, 19, 20, 21, 22, 23, 24],\n",
              "              mask=[False, False, False, False, False, False, False, False,\n",
              "                    False, False, False, False, False, False, False, False,\n",
              "                    False, False, False, False, False, False, False, False],\n",
              "        fill_value='?',\n",
              "             dtype=object),\n",
              " 'params': [{'n_neighbors': 1},\n",
              "  {'n_neighbors': 2},\n",
              "  {'n_neighbors': 3},\n",
              "  {'n_neighbors': 4},\n",
              "  {'n_neighbors': 5},\n",
              "  {'n_neighbors': 6},\n",
              "  {'n_neighbors': 7},\n",
              "  {'n_neighbors': 8},\n",
              "  {'n_neighbors': 9},\n",
              "  {'n_neighbors': 10},\n",
              "  {'n_neighbors': 11},\n",
              "  {'n_neighbors': 12},\n",
              "  {'n_neighbors': 13},\n",
              "  {'n_neighbors': 14},\n",
              "  {'n_neighbors': 15},\n",
              "  {'n_neighbors': 16},\n",
              "  {'n_neighbors': 17},\n",
              "  {'n_neighbors': 18},\n",
              "  {'n_neighbors': 19},\n",
              "  {'n_neighbors': 20},\n",
              "  {'n_neighbors': 21},\n",
              "  {'n_neighbors': 22},\n",
              "  {'n_neighbors': 23},\n",
              "  {'n_neighbors': 24}],\n",
              " 'rank_test_score': array([24, 23, 21, 22, 17, 20, 12, 16, 18, 19, 14, 14,  2,  5,  1, 11, 10,\n",
              "        13,  6,  7,  9,  8,  4,  3], dtype=int32),\n",
              " 'split0_test_score': array([0.68831169, 0.69480519, 0.66883117, 0.70779221, 0.72077922,\n",
              "        0.69480519, 0.70779221, 0.71428571, 0.71428571, 0.71428571,\n",
              "        0.74025974, 0.72727273, 0.74025974, 0.74025974, 0.74025974,\n",
              "        0.74025974, 0.74675325, 0.73376623, 0.74025974, 0.73376623,\n",
              "        0.72077922, 0.71428571, 0.71428571, 0.72077922]),\n",
              " 'split1_test_score': array([0.73376623, 0.74025974, 0.74675325, 0.74675325, 0.75974026,\n",
              "        0.75974026, 0.76623377, 0.75324675, 0.74675325, 0.72727273,\n",
              "        0.72077922, 0.73376623, 0.75324675, 0.75324675, 0.74025974,\n",
              "        0.73376623, 0.72077922, 0.72727273, 0.72077922, 0.73376623,\n",
              "        0.71428571, 0.72077922, 0.72077922, 0.73376623]),\n",
              " 'split2_test_score': array([0.69480519, 0.69480519, 0.69480519, 0.69480519, 0.74025974,\n",
              "        0.70779221, 0.76623377, 0.75324675, 0.72727273, 0.73376623,\n",
              "        0.74675325, 0.74675325, 0.76623377, 0.74675325, 0.76623377,\n",
              "        0.74025974, 0.75974026, 0.74025974, 0.75324675, 0.75974026,\n",
              "        0.76623377, 0.75974026, 0.78571429, 0.77922078]),\n",
              " 'split3_test_score': array([0.7254902 , 0.76470588, 0.79084967, 0.75163399, 0.76470588,\n",
              "        0.75816993, 0.76470588, 0.75816993, 0.77124183, 0.73856209,\n",
              "        0.76470588, 0.77124183, 0.80392157, 0.80392157, 0.81045752,\n",
              "        0.78431373, 0.78431373, 0.77777778, 0.79738562, 0.78431373,\n",
              "        0.78431373, 0.79084967, 0.80392157, 0.80392157]),\n",
              " 'split4_test_score': array([0.66666667, 0.65359477, 0.7254902 , 0.7254902 , 0.76470588,\n",
              "        0.73856209, 0.77124183, 0.77124183, 0.77124183, 0.80392157,\n",
              "        0.78431373, 0.77777778, 0.79084967, 0.77124183, 0.79738562,\n",
              "        0.77777778, 0.77777778, 0.77777778, 0.79738562, 0.78431373,\n",
              "        0.80392157, 0.80392157, 0.80392157, 0.80392157]),\n",
              " 'std_fit_time': array([2.35249921e-03, 2.21150042e-04, 3.32286245e-04, 4.79653989e-04,\n",
              "        9.88686403e-05, 3.20776986e-04, 1.22635991e-04, 1.19534110e-03,\n",
              "        9.87699046e-04, 2.18610914e-04, 1.97259032e-04, 2.92488601e-04,\n",
              "        2.63535978e-04, 1.39264813e-04, 2.11995905e-03, 2.30407330e-04,\n",
              "        1.57921916e-04, 2.40570532e-04, 3.47186134e-04, 2.02868496e-04,\n",
              "        1.18298580e-04, 2.97285923e-04, 9.95647405e-05, 7.06258452e-05]),\n",
              " 'std_score_time': array([0.0003177 , 0.00131035, 0.00065434, 0.00294019, 0.00127672,\n",
              "        0.00053033, 0.00083006, 0.00134645, 0.00492318, 0.00150718,\n",
              "        0.00202898, 0.00098627, 0.0037152 , 0.00139545, 0.00235476,\n",
              "        0.00063051, 0.00090918, 0.00267239, 0.00097263, 0.00191702,\n",
              "        0.0040589 , 0.00166666, 0.00062256, 0.00786689]),\n",
              " 'std_test_score': array([0.02469121, 0.03886137, 0.04213238, 0.02186418, 0.01718207,\n",
              "        0.02633153, 0.02382721, 0.01905019, 0.02294013, 0.03126236,\n",
              "        0.02165032, 0.02002072, 0.02349745, 0.02288523, 0.02886419,\n",
              "        0.02127518, 0.02279647, 0.02194881, 0.03083024, 0.02260726,\n",
              "        0.0351149 , 0.03602002, 0.03995911, 0.03495099])}"
            ]
          },
          "metadata": {},
          "execution_count": 113
        }
      ]
    },
    {
      "cell_type": "code",
      "source": [
        "knn_gscv.cv_results_['rank_test_score']"
      ],
      "metadata": {
        "colab": {
          "base_uri": "https://localhost:8080/"
        },
        "id": "M6nJ1knqBfc2",
        "outputId": "12cbf1fa-bb82-4015-c97d-05702b4d8eae"
      },
      "execution_count": 107,
      "outputs": [
        {
          "output_type": "execute_result",
          "data": {
            "text/plain": [
              "array([24, 23, 21, 22, 17, 20, 12, 16, 18, 19, 14, 14,  2,  5,  1, 11, 10,\n",
              "       13,  6,  7,  9,  8,  4,  3], dtype=int32)"
            ]
          },
          "metadata": {},
          "execution_count": 107
        }
      ]
    },
    {
      "cell_type": "code",
      "source": [
        "knn_gscv.best_params_  \n",
        "#eng yaxshi ko'rsatgichni olishimiz mumkin n_neghbors uchun:bunda biz "
      ],
      "metadata": {
        "colab": {
          "base_uri": "https://localhost:8080/"
        },
        "id": "gfkcTt3CHfR9",
        "outputId": "f0e2b05b-04df-4af5-9cb5-10e9526ca430"
      },
      "execution_count": 109,
      "outputs": [
        {
          "output_type": "execute_result",
          "data": {
            "text/plain": [
              "{'n_neighbors': 15}"
            ]
          },
          "metadata": {},
          "execution_count": 109
        }
      ]
    },
    {
      "cell_type": "code",
      "source": [
        "knn_gscv.best_score_  # eng yaxshi ko'rsatgich"
      ],
      "metadata": {
        "colab": {
          "base_uri": "https://localhost:8080/"
        },
        "id": "-9oLRGwOIMRJ",
        "outputId": "326be31b-fc9c-4b89-a4f6-fe1fb0913128"
      },
      "execution_count": 110,
      "outputs": [
        {
          "output_type": "execute_result",
          "data": {
            "text/plain": [
              "0.7709192768016297"
            ]
          },
          "metadata": {},
          "execution_count": 110
        }
      ]
    },
    {
      "cell_type": "code",
      "source": [
        "plt.figure(figsize=(10,6))\n",
        "plt.plot(param_grid['n_neighbors'], knn_gscv.cv_results_['rank_test_score'])\n",
        "plt.xticks(param_grid['n_neighbors'])\n",
        "plt.xlabel(\"k\")\n",
        "plt.ylabel(\"Xatolik reytingi\")\n",
        "plt.grid()\n",
        "plt.show()"
      ],
      "metadata": {
        "colab": {
          "base_uri": "https://localhost:8080/",
          "height": 390
        },
        "id": "rnpR4c3sINA6",
        "outputId": "af17b59d-5f06-44a8-f4f4-94dd5d5682e7"
      },
      "execution_count": 111,
      "outputs": [
        {
          "output_type": "display_data",
          "data": {
            "text/plain": [
              "<Figure size 720x432 with 1 Axes>"
            ],
            "image/png": "[encoded data removed]"
          },
          "metadata": {
            "needs_background": "light"
          }
        }
      ]
    },
    {
      "cell_type": "code",
      "source": [
        "#n_neighbors=15 da eng kam xtolikka olib kelyapti,bu yaxshi"
      ],
      "metadata": {
        "id": "wEmCBLhdIdv2"
      },
      "execution_count": null,
      "outputs": []
    },
    {
      "cell_type": "markdown",
      "source": [
        "\n",
        "\n",
        "---\n",
        "                                                    created by Navruzbek_Anduganiyev\n"
      ],
      "metadata": {
        "id": "dm_MWJf8JEXs"
      }
    }
  ]
}